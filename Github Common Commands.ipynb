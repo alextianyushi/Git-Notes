{
 "cells": [
  {
   "cell_type": "markdown",
   "id": "6335c10c-95cb-4308-9ba3-f31e457f1e9e",
   "metadata": {},
   "source": [
    "## Git  Common Commands"
   ]
  },
  {
   "cell_type": "markdown",
   "id": "ef6c926e-6d66-4417-bd77-1eb53438d530",
   "metadata": {},
   "source": [
    "### Initilization"
   ]
  },
  {
   "cell_type": "markdown",
   "id": "4a67decb-07f0-4819-adc1-626a37870dae",
   "metadata": {},
   "source": [
    "git clone 网址 ：从github上克隆别人的项目"
   ]
  },
  {
   "cell_type": "markdown",
   "id": "cce57ef1-2f75-4a5b-8f05-a77ed3f232ec",
   "metadata": {},
   "source": [
    "git init : 初始化respository (仓库)"
   ]
  },
  {
   "cell_type": "markdown",
   "id": "7edd7a19-38ed-466d-a527-d2ff4aeb6c40",
   "metadata": {},
   "source": [
    "### Commit"
   ]
  },
  {
   "cell_type": "markdown",
   "id": "99ce213f-5fef-4c92-a1fe-6266da7f8cb0",
   "metadata": {},
   "source": [
    "工作流程"
   ]
  },
  {
   "attachments": {
    "ccd550d2-746a-41a8-8581-32777b7e90f0.jpg": {
     "image/jpeg": "[encoded data removed]"
    }
   },
   "cell_type": "markdown",
   "id": "766feccf-4143-4eea-abc5-c272725cda47",
   "metadata": {},
   "source": [
    "![Working tree, staging area, and Git directory.jpg](attachment:ccd550d2-746a-41a8-8581-32777b7e90f0.jpg)"
   ]
  },
  {
   "cell_type": "markdown",
   "id": "aed76d12-cfef-468e-ad6a-0f8696a672d5",
   "metadata": {},
   "source": [
    "git add -A : 添加文件到暂存区  \n",
    "git commit -m \"first commit\" (first commit 可被替换成任何提交信息) : 把暂存区的文件提交到仓库"
   ]
  },
  {
   "cell_type": "markdown",
   "id": "f12aa095-5fe3-46ac-9132-dc8721219321",
   "metadata": {},
   "source": [
    "git log --stat : 查看提交的历史 "
   ]
  },
  {
   "cell_type": "markdown",
   "id": "cd5c83de-a2ee-4792-8ccf-3c6d5f0ef497",
   "metadata": {},
   "source": [
    "### Rollback"
   ]
  },
  {
   "cell_type": "markdown",
   "id": "2bbd4779-7c96-483e-8d66-9080cf0bdc3a",
   "metadata": {},
   "source": [
    "git checkout filename ：工作区回滚  \n",
    "    注：1）如果在vscode中回滚，需要先在file中或ctril+s保存  \n",
    "        2）回滚针对的是只存在work directory工作区的改动"
   ]
  },
  {
   "cell_type": "markdown",
   "id": "564e0c24-d2e4-45b6-9f5a-aa422210f2c7",
   "metadata": {},
   "source": [
    "git reset HEAD^1:  撤销最近的一次提交，退回工作区，撤销后再回滚就可以取消最近的一次修改"
   ]
  },
  {
   "cell_type": "markdown",
   "id": "3a342a86-aa04-4299-aadf-7fd17b83d291",
   "metadata": {},
   "source": [
    "### Branch"
   ]
  },
  {
   "cell_type": "markdown",
   "id": "84480c19-46b7-409b-a545-7324b2ac7b76",
   "metadata": {},
   "source": [
    "git checkout -b branchname : 以当前分支为基础建立新的分支"
   ]
  },
  {
   "cell_type": "markdown",
   "id": "523b341c-33a0-4934-a366-d3135614e4b8",
   "metadata": {},
   "source": [
    "git branch : 列举所有的分支"
   ]
  },
  {
   "cell_type": "markdown",
   "id": "8e85c9f8-c1d9-49ec-92f1-2b8f0b469c90",
   "metadata": {},
   "source": [
    "git checkout branchname: 切换到某个分支"
   ]
  },
  {
   "cell_type": "markdown",
   "id": "738dab84-a511-4a14-b913-3ac0c558c61a",
   "metadata": {},
   "source": [
    "git branch -D branchname: 删掉某个分支"
   ]
  },
  {
   "cell_type": "markdown",
   "id": "3b9dc060-9e32-49f9-a875-070b1a4c08eb",
   "metadata": {},
   "source": [
    "git merge branchname: 合并分支"
   ]
  },
  {
   "cell_type": "markdown",
   "id": "3143802c-e874-4c5b-a326-63a1dc32ec63",
   "metadata": {},
   "source": [
    "### Uploading an existing repository to Github"
   ]
  },
  {
   "cell_type": "markdown",
   "id": "85668817-d002-4315-85fc-64a534191257",
   "metadata": {},
   "source": [
    "git remote add origin repositoryURL: 把远程的仓库加到本地"
   ]
  },
  {
   "cell_type": "markdown",
   "id": "8b5096bf-a4ed-439e-a8b8-e48e24e781fa",
   "metadata": {},
   "source": [
    "git branch -M main: 把本地的master改成main"
   ]
  },
  {
   "cell_type": "markdown",
   "id": "9b7176a1-324f-4eef-8d8c-ab30e4debf6e",
   "metadata": {},
   "source": [
    "git push -u origin main: push推送本地的仓库到远端"
   ]
  },
  {
   "cell_type": "markdown",
   "id": "e9e2c96b-84a5-45f3-a29e-d9c5f064e26a",
   "metadata": {},
   "source": [
    "git push: 推送当前分支最新的提交到远程"
   ]
  },
  {
   "cell_type": "markdown",
   "id": "4ed9dfec-1b35-49ad-8454-c64bc2fbe6b8",
   "metadata": {},
   "source": [
    "git pull: 拉去远程最新提交到本地"
   ]
  }
 ],
 "metadata": {
  "kernelspec": {
   "display_name": "Python 3 (ipykernel)",
   "language": "python",
   "name": "python3"
  },
  "language_info": {
   "codemirror_mode": {
    "name": "ipython",
    "version": 3
   },
   "file_extension": ".py",
   "mimetype": "text/x-python",
   "name": "python",
   "nbconvert_exporter": "python",
   "pygments_lexer": "ipython3",
   "version": "3.9.7"
  }
 },
 "nbformat": 4,
 "nbformat_minor": 5
}
